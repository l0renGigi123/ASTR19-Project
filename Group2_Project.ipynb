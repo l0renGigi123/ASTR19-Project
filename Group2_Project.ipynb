{
  "cells": [
    {
      "cell_type": "markdown",
      "id": "f5938c23-3c1d-4478-843b-923a6317a929",
      "metadata": {
        "id": "f5938c23-3c1d-4478-843b-923a6317a929"
      },
      "source": [
        "## Set Up"
      ]
    },
    {
      "cell_type": "code",
      "execution_count": 3,
      "id": "dc28bc85-49e2-4e1d-a9ad-839c105d9ed5",
      "metadata": {
        "colab": {
          "base_uri": "https://localhost:8080/",
          "height": 573
        },
        "id": "dc28bc85-49e2-4e1d-a9ad-839c105d9ed5",
        "outputId": "f7b60be3-0dcc-40e8-912d-2f73442bca73"
      },
      "outputs": [
        {
          "output_type": "stream",
          "name": "stdout",
          "text": [
            "[1, 1, 2, 2, 3, 3, 4, 4, 5, 5, 6, 6, 7, 7, 8, 8, 9, 9, 10, 10, 11, 11, 12, 12, 13, 13, 14, 14, 15, 15, 16, 16, 17, 17, 18, 18, 19, 19, 20, 20, 21, 21, 22, 22, 23, 23, 24, 24, 25, 25, 26, 26, 27, 27, 28, 28, 29, 29, 30, 30, 31, 31, 32, 32, 33, 33, 34, 34, 35, 35, 36, 36, 37, 37, 38, 38, 39, 39, 40, 40, 41, 41]\n",
            " \n",
            "[1.487, 1.937, 2.535, 2.985, 3.585, 3.1034, 4.635, 4.108, 5.688, 5.1126, 6.742, 6.1171, 7.804, 7.1216, 8.202, 8.1261, 9.247, 9.1306, 10.29, 10.718, 11.331, 11.776, 12.368, 12.825, 13.407, 13.865, 14.442, 14.9, 15.479, 15.934, 16.514, 16.968, 17.55, 17.1001, 18.585, 18.1032, 19.621, 19.1065, 20.657, 20.1095, 21.698, 21.1128, 22.745, 22.116, 23.142, 23.1192, 24.178, 24.123, 25.217, 25.644, 26.263, 26.715, 27.315, 27.777, 28.369, 28.83, 29.425, 29.879, 30.478, 30.927, 31.53, 31.97, 32.58, 32.1012, 33.63, 33.1054, 34.679, 34.1092, 35.73, 35.1129, 36.92, 36.1164, 37.133, 37.12, 38.174, 38.594, 39.219, 39.675, 40.269, 40.742, 41.321, 41.794]\n",
            " \n",
            "[6.57, -0.39, 5.38, -1.74, 5.26, -1.36, 4.13, -1.15, 3.48, -1.61, 2.62, 0.05, 1.83, 1.01, 3.57, 0.73, 4.54, 2.17, 3.76, 2.88, 3.9, 1.92, 4.73, 1.74, 5.66, 0.79, 5.33, -0.04, 5.23, -1.12, 6.67, -0.61, 4.74, -0.93, 4.69, -1.29, 4.2, 0.22, 3.68, 0.26, 2.47, 0.36, 2.59, 0.99, 4.1, 1.87, 3.17, 1.6, 3.71, 3.1, 4.04, 2.49, 4.07, 2.18, 5.93, 0.7, 6.89, 0.21, 6.72, 0.22, 6.77, -1.68, 5.77, -1.32, 4.35, -0.73, 4.23, -0.38, 2.24, -0.61, 3.45, -0.46, 4.13, 1.21, 3.34, 2.58, 3.32, 3.26, 5.21, 2.39, 4.83, 2.41]\n"
          ]
        },
        {
          "output_type": "execute_result",
          "data": {
            "text/plain": [
              "Text(0.5, 0, 'Time')"
            ]
          },
          "metadata": {},
          "execution_count": 3
        },
        {
          "output_type": "display_data",
          "data": {
            "text/plain": [
              "<Figure size 640x480 with 1 Axes>"
            ],
            "image/png": "[encoded data removed]"
          },
          "metadata": {}
        }
      ],
      "source": [
        "import numpy as np\n",
        "import matplotlib.pyplot as plt\n",
        "from scipy.optimize import curve_fit\n",
        "data = np.genfromtxt(\"ASTR19_F24_group_project_data.txt\",\n",
        "                     dtype=[('myint','i8'),('mystring','S5'),('myfloat','f8')])\n",
        "\n",
        "#pass in a string time to convert to minutes\n",
        "def convertTimeToNum(t):\n",
        "  hours, minutes, = map(int, t) #use map to convert strings to ints\n",
        "  return hours*60 + minutes\n",
        "\n",
        "#setting empty list will fill up with column data\n",
        "day = []\n",
        "time = []\n",
        "height = []\n",
        "\n",
        "#looping over every row\n",
        "for i in range(82):\n",
        "    day.append(data[i][0])\n",
        "    t = convertTimeToNum(data[i][1].decode(\"utf-8\").split(\":\")) #grab time\n",
        "    combine = f\"{data[i][0]}.{t}\" #combine into decimal\n",
        "    combine = float(combine)\n",
        "    time.append(combine)\n",
        "    height.append(data[i][2])\n",
        "\n",
        "print(day)\n",
        "print(' ')\n",
        "print(time)\n",
        "print(' ')\n",
        "print(height)\n",
        "\n",
        "plt.scatter(time, height)\n",
        "plt.ylabel(\"Height\")\n",
        "plt.xlabel(\"Time\")\n"
      ]
    },
    {
      "cell_type": "code",
      "source": [
        "from google.colab import drive\n",
        "drive.mount('/content/drive')"
      ],
      "metadata": {
        "id": "rijGFMhH94dn"
      },
      "id": "rijGFMhH94dn",
      "execution_count": null,
      "outputs": []
    },
    {
      "cell_type": "markdown",
      "id": "c2346614-1a79-4fbd-af61-ae7b1c2b9e83",
      "metadata": {
        "id": "c2346614-1a79-4fbd-af61-ae7b1c2b9e83"
      },
      "source": [
        "#define function for curve (high)\n",
        "\n",
        "def f(x, a, b, c, d, e, f, g, h):\n",
        "    return a * np.sin(b*x + c) + d + e * np.cos(f*x + g) + h\n",
        "\n",
        "    \n",
        "    #the fit will give you paramters of"
      ]
    },
    {
      "cell_type": "code",
      "execution_count": null,
      "id": "021b685b-ac9a-427b-a5bc-5fae36a9ee07",
      "metadata": {
        "id": "021b685b-ac9a-427b-a5bc-5fae36a9ee07"
      },
      "outputs": [],
      "source": []
    }
  ],
  "metadata": {
    "kernelspec": {
      "display_name": "ASTR 19",
      "language": "python",
      "name": "astr19"
    },
    "language_info": {
      "codemirror_mode": {
        "name": "ipython",
        "version": 3
      },
      "file_extension": ".py",
      "mimetype": "text/x-python",
      "name": "python",
      "nbconvert_exporter": "python",
      "pygments_lexer": "ipython3",
      "version": "3.10.12"
    },
    "colab": {
      "provenance": []
    }
  },
  "nbformat": 4,
  "nbformat_minor": 5
}