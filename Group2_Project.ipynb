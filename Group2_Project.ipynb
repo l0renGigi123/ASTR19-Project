{
  "cells": [
    {
      "cell_type": "markdown",
      "id": "f5938c23-3c1d-4478-843b-923a6317a929",
      "metadata": {
        "id": "f5938c23-3c1d-4478-843b-923a6317a929"
      },
      "source": [
        "## Set Up"
      ]
    },
    {
      "cell_type": "code",
      "execution_count": 16,
      "id": "dc28bc85-49e2-4e1d-a9ad-839c105d9ed5",
      "metadata": {
        "colab": {
          "base_uri": "https://localhost:8080/",
          "height": 573
        },
        "id": "dc28bc85-49e2-4e1d-a9ad-839c105d9ed5",
        "outputId": "b5eddea5-af6c-42fa-9cf1-6e6864ec656a"
      },
      "outputs": [
        {
          "output_type": "stream",
          "name": "stdout",
          "text": [
            "[1, 1, 2, 2, 3, 3, 4, 4, 5, 5, 6, 6, 7, 7, 8, 8, 9, 9, 10, 10, 11, 11, 12, 12, 13, 13, 14, 14, 15, 15, 16, 16, 17, 17, 18, 18, 19, 19, 20, 20, 21, 21, 22, 22, 23, 23, 24, 24, 25, 25, 26, 26, 27, 27, 28, 28, 29, 29, 30, 30, 31, 31, 32, 32, 33, 33, 34, 34, 35, 35, 36, 36, 37, 37, 38, 38, 39, 39, 40, 40, 41, 41]\n",
            " \n",
            "[487, 937, 535, 985, 585, 1034, 635, 1080, 688, 1126, 742, 1171, 804, 1216, 202, 1261, 247, 1306, 290, 718, 331, 776, 368, 825, 407, 865, 442, 900, 479, 934, 514, 968, 550, 1001, 585, 1032, 621, 1065, 657, 1095, 698, 1128, 745, 1160, 142, 1192, 178, 1230, 217, 644, 263, 715, 315, 777, 369, 830, 425, 879, 478, 927, 530, 970, 580, 1012, 630, 1054, 679, 1092, 730, 1129, 92, 1164, 133, 1200, 174, 594, 219, 675, 269, 742, 321, 794]\n",
            " \n",
            "[6.57, -0.39, 5.38, -1.74, 5.26, -1.36, 4.13, -1.15, 3.48, -1.61, 2.62, 0.05, 1.83, 1.01, 3.57, 0.73, 4.54, 2.17, 3.76, 2.88, 3.9, 1.92, 4.73, 1.74, 5.66, 0.79, 5.33, -0.04, 5.23, -1.12, 6.67, -0.61, 4.74, -0.93, 4.69, -1.29, 4.2, 0.22, 3.68, 0.26, 2.47, 0.36, 2.59, 0.99, 4.1, 1.87, 3.17, 1.6, 3.71, 3.1, 4.04, 2.49, 4.07, 2.18, 5.93, 0.7, 6.89, 0.21, 6.72, 0.22, 6.77, -1.68, 5.77, -1.32, 4.35, -0.73, 4.23, -0.38, 2.24, -0.61, 3.45, -0.46, 4.13, 1.21, 3.34, 2.58, 3.32, 3.26, 5.21, 2.39, 4.83, 2.41]\n"
          ]
        },
        {
          "output_type": "execute_result",
          "data": {
            "text/plain": [
              "Text(0.5, 0, 'Time')"
            ]
          },
          "metadata": {},
          "execution_count": 16
        },
        {
          "output_type": "display_data",
          "data": {
            "text/plain": [
              "<Figure size 640x480 with 1 Axes>"
            ],
            "image/png": "[encoded data removed]"
          },
          "metadata": {}
        }
      ],
      "source": [
        "import numpy as np\n",
        "import matplotlib.pyplot as plt\n",
        "from scipy.optimize import curve_fit\n",
        "data = np.genfromtxt(\"ASTR19_F24_group_project_data.txt\",\n",
        "                     dtype=[('myint','i8'),('mystring','S5'),('myfloat','f8')])\n",
        "\n",
        "#pass in a string time to convert to minutes\n",
        "def convertTimeToNum(t):\n",
        "  hours, minutes, = map(int, t) #use map to convert strings to ints\n",
        "  return hours*60 + minutes\n",
        "\n",
        "#setting empty list will fill up with column data\n",
        "day = []\n",
        "time = []\n",
        "height = []\n",
        "\n",
        "#looping over every row\n",
        "for i in range(82):\n",
        "    day.append(data[i][0])\n",
        "    time.append(convertTimeToNum(data[i][1].decode(\"utf-8\").split(\":\")))\n",
        "    height.append(data[i][2])\n",
        "\n",
        "print(day)\n",
        "print(' ')\n",
        "print(time)\n",
        "print(' ')\n",
        "print(height)\n",
        "\n",
        "plt.scatter(time, height)\n",
        "plt.ylabel(\"Height\")\n",
        "plt.xlabel(\"Time\")\n"
      ]
    },
    {
      "cell_type": "markdown",
      "id": "c2346614-1a79-4fbd-af61-ae7b1c2b9e83",
      "metadata": {
        "id": "c2346614-1a79-4fbd-af61-ae7b1c2b9e83"
      },
      "source": [
        "#define function for curve (high)\n",
        "\n",
        "def f(x, a, b, c, d, e, f, g, h):\n",
        "    return a * np.sin(b*x + c) + d + e * np.cos(f*x + g) + h\n",
        "\n",
        "    \n",
        "    #the fit will give you paramters of"
      ]
    },
    {
      "cell_type": "code",
      "execution_count": null,
      "id": "021b685b-ac9a-427b-a5bc-5fae36a9ee07",
      "metadata": {
        "id": "021b685b-ac9a-427b-a5bc-5fae36a9ee07"
      },
      "outputs": [],
      "source": []
    }
  ],
  "metadata": {
    "kernelspec": {
      "display_name": "ASTR 19",
      "language": "python",
      "name": "astr19"
    },
    "language_info": {
      "codemirror_mode": {
        "name": "ipython",
        "version": 3
      },
      "file_extension": ".py",
      "mimetype": "text/x-python",
      "name": "python",
      "nbconvert_exporter": "python",
      "pygments_lexer": "ipython3",
      "version": "3.10.12"
    },
    "colab": {
      "provenance": []
    }
  },
  "nbformat": 4,
  "nbformat_minor": 5
}